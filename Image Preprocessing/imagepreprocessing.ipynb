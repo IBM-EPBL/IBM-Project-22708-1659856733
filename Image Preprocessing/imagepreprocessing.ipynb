{
  "nbformat": 4,
  "nbformat_minor": 0,
  "metadata": {
    "colab": {
      "provenance": [],
      "collapsed_sections": []
    },
    "kernelspec": {
      "name": "python3",
      "display_name": "Python 3"
    },
    "language_info": {
      "name": "python"
    }
  },
  "cells": [
    {
      "cell_type": "code",
      "execution_count": 1,
      "metadata": {
        "id": "Ocnw6IVnYP-8"
      },
      "outputs": [],
      "source": [
        "import keras"
      ]
    },
    {
      "cell_type": "code",
      "source": [
        "from keras.preprocessing.image import ImageDataGenerator"
      ],
      "metadata": {
        "id": "nXYLbSa4YnX5"
      },
      "execution_count": 2,
      "outputs": []
    },
    {
      "cell_type": "markdown",
      "source": [
        "Parameters"
      ],
      "metadata": {
        "id": "eTJVuF4hY9Ru"
      }
    },
    {
      "cell_type": "code",
      "source": [
        "from google.colab import drive\n",
        "drive.mount('/content/drive')"
      ],
      "metadata": {
        "colab": {
          "base_uri": "https://localhost:8080/"
        },
        "id": "BHGpNjJjY8k1",
        "outputId": "c1f242ec-333f-4db4-e759-b5c9008dfed9"
      },
      "execution_count": 3,
      "outputs": [
        {
          "output_type": "stream",
          "name": "stdout",
          "text": [
            "Mounted at /content/drive\n"
          ]
        }
      ]
    },
    {
      "cell_type": "code",
      "source": [
        "cd /content/drive/MyDrive/ibm\n"
      ],
      "metadata": {
        "colab": {
          "base_uri": "https://localhost:8080/"
        },
        "id": "hp9yc4C-aNqd",
        "outputId": "496488c6-4c19-47a7-947e-d09de032ab39"
      },
      "execution_count": 5,
      "outputs": [
        {
          "output_type": "stream",
          "name": "stdout",
          "text": [
            "/content/drive/MyDrive/ibm\n"
          ]
        }
      ]
    },
    {
      "cell_type": "code",
      "source": [
        "!unzip /content/drive/MyDrive/ibm/Dataset.zip\n"
      ],
      "metadata": {
        "colab": {
          "base_uri": "https://localhost:8080/"
        },
        "id": "WHchjGRIbFin",
        "outputId": "96a51137-7b49-4e14-cea1-9a4e5fe6a579"
      },
      "execution_count": 7,
      "outputs": [
        {
          "output_type": "stream",
          "name": "stdout",
          "text": [
            "Archive:  /content/drive/MyDrive/ibm/Dataset.zip\n",
            "  inflating: forest fire/dataset/test_set/forest/with_fire (3).png  \n",
            "  inflating: forest fire/dataset/train_set/with fire/cumming_forest_fires.jpg  \n",
            "  inflating: forest fire/dataset/test_set/with fire/with fire (2).jpg  \n",
            "  inflating: forest fire/dataset/train_set/with fire/f90_fire_1168x657.jpg  \n",
            "  inflating: forest fire/dataset/test_set/forest/with_fire (1).jpeg  \n",
            "  inflating: forest fire/dataset/train_set/with fire/b2683a16be44f230a90f50bb944315e994b43042e43df798bb4feaf27e0f8bc8.jpg  \n",
            "  inflating: forest fire/dataset/test_set/with fire/with fire (2).jpeg  \n",
            "  inflating: forest fire/dataset/train_set/with fire/deerfire_high_res_edit.jpg  \n",
            "  inflating: forest fire/dataset/test_set/with fire/with fire (5).jpg  \n",
            "  inflating: forest fire/dataset/test_set/forest/with_fire (3).jpg  \n",
            "  inflating: forest fire/dataset/train_set/with fire/599857.jpg  \n",
            "  inflating: forest fire/dataset/test_set/with fire/with fire (4).jpg  \n",
            "  inflating: forest fire/dataset/test_set/with fire/with fire (3).jpeg  \n",
            "  inflating: forest fire/dataset/test_set/with fire/with fire (3).png  \n",
            "  inflating: forest fire/dataset/test_set/with fire/with fire (3).jpg  \n",
            "  inflating: forest fire/dataset/test_set/forest/with_fire (1).jpg  \n",
            "  inflating: forest fire/dataset/train_set/forest/2E215059_55C7_417B_8DDD693AA6E416B4_source.jpg  \n",
            "  inflating: forest fire/dataset/train_set/with fire/defense_large.jpg  \n",
            "  inflating: forest fire/dataset/test_set/with fire/with fire (1).png  \n",
            "  inflating: forest fire/dataset/test_set/forest/with_fire (1).gif  \n",
            "  inflating: forest fire/dataset/train_set/forest/0.98884800_1554454572_spin.jpg  \n",
            "  inflating: forest fire/dataset/test_set/with fire/with fire (2).png  \n",
            "  inflating: forest fire/dataset/train_set/forest/0.72918000_1559733279_forests1_gettyimages_.jpg  \n",
            "  inflating: forest fire/dataset/train_set/forest/01_NeilBurnell_Mystical_photoverticall.jpg  \n",
            "  inflating: forest fire/dataset/test_set/forest/with_fire (2).jpg  \n",
            "  inflating: forest fire/dataset/train_set/with fire/19464620_401.jpg  \n",
            "  inflating: forest fire/dataset/train_set/with fire/climate_change_forest_fire.jpeg  \n",
            "  inflating: forest fire/dataset/test_set/forest/with_fire (2).jpeg  \n",
            "  inflating: forest fire/dataset/test_set/forest/with_fire (1).png  \n",
            "  inflating: forest fire/dataset/test_set/with fire/with fire (4).png  \n",
            "  inflating: forest fire/dataset/test_set/forest/with_fire (3).jpeg  \n",
            "  inflating: forest fire/dataset/train_set/forest/1_chimp.jpg  \n",
            "  inflating: forest fire/dataset/train_set/forest/4k_timelapse_heavy_rain_on_mountain_forest_tree_fog_motion_bad_weather_condition_rfift1zh_thumbnail_.png  \n",
            "  inflating: forest fire/dataset/train_set/forest/0.64133000_1519374442_forest_deep.jpg  \n",
            "  inflating: forest fire/dataset/train_set/forest/4fe3f4e45d6bb93070989b8bbb77d30e.jpg  \n",
            "  inflating: forest fire/dataset/test_set/forest/with_fire (2).png  \n"
          ]
        }
      ]
    },
    {
      "cell_type": "code",
      "source": [
        "train_datagen = ImageDataGenerator(rescale= 1./225,horizontal_flip=True,vertical_flip=True,zoom_range=0.2)\n",
        "test_datagen = ImageDataGenerator(rescale = 1./255)\n",
        "\n"
      ],
      "metadata": {
        "id": "DE9zO8jRbtyV"
      },
      "execution_count": 18,
      "outputs": []
    },
    {
      "cell_type": "markdown",
      "source": [
        "Applying ImageDataGenerator"
      ],
      "metadata": {
        "id": "VEkzKkbnb2zV"
      }
    },
    {
      "cell_type": "code",
      "source": [
        "x = train_datagen.flow_from_directory(r\"/content/drive/MyDrive/ibm/fire/dataset/train_set\",target_size=(256, 256), class_mode='categorical', batch_size=32)\n"
      ],
      "metadata": {
        "colab": {
          "base_uri": "https://localhost:8080/"
        },
        "id": "vKbPLWs7bzNx",
        "outputId": "a4dbc21f-e0cb-4207-a3d8-0f25931328ee"
      },
      "execution_count": 21,
      "outputs": [
        {
          "output_type": "stream",
          "name": "stdout",
          "text": [
            "Found 16 images belonging to 2 classes.\n"
          ]
        }
      ]
    },
    {
      "cell_type": "code",
      "source": [
        "y = test_datagen.flow_from_directory(r\"/content/drive/MyDrive/ibm/fire/dataset/test_set\",target_size=(256, 256), class_mode='categorical', batch_size=32)\n"
      ],
      "metadata": {
        "colab": {
          "base_uri": "https://localhost:8080/"
        },
        "id": "kmJjy22FeY2o",
        "outputId": "60db4a8f-712a-494d-9189-f968b8fd95a1"
      },
      "execution_count": 22,
      "outputs": [
        {
          "output_type": "stream",
          "name": "stdout",
          "text": [
            "Found 19 images belonging to 2 classes.\n"
          ]
        }
      ]
    },
    {
      "cell_type": "code",
      "source": [
        "print(x.class_indices)\n"
      ],
      "metadata": {
        "colab": {
          "base_uri": "https://localhost:8080/"
        },
        "id": "5s6-zVoKemL6",
        "outputId": "dea5d0df-ad62-47e5-fd81-3c8354b7782c"
      },
      "execution_count": 23,
      "outputs": [
        {
          "output_type": "stream",
          "name": "stdout",
          "text": [
            "{'forest': 0, 'with fire': 1}\n"
          ]
        }
      ]
    },
    {
      "cell_type": "code",
      "source": [
        "print(y.class_indices)\n"
      ],
      "metadata": {
        "colab": {
          "base_uri": "https://localhost:8080/"
        },
        "id": "9YOGHtWdeueM",
        "outputId": "beaeddd1-dedf-4df2-8c1e-fa3a2b75cd17"
      },
      "execution_count": 24,
      "outputs": [
        {
          "output_type": "stream",
          "name": "stdout",
          "text": [
            "{'forest': 0, 'with fire': 1}\n"
          ]
        }
      ]
    },
    {
      "cell_type": "code",
      "source": [
        "from collections import Counter as c\n",
        "c(x.labels)"
      ],
      "metadata": {
        "colab": {
          "base_uri": "https://localhost:8080/"
        },
        "id": "WmwHSggde3LI",
        "outputId": "500d47f8-0072-4cd2-b73c-84ccc03e2cbf"
      },
      "execution_count": 25,
      "outputs": [
        {
          "output_type": "execute_result",
          "data": {
            "text/plain": [
              "Counter({0: 8, 1: 8})"
            ]
          },
          "metadata": {},
          "execution_count": 25
        }
      ]
    },
    {
      "cell_type": "code",
      "source": [
        "from collections import Counter as c\n",
        "c(y.labels)"
      ],
      "metadata": {
        "colab": {
          "base_uri": "https://localhost:8080/"
        },
        "id": "0_Ww4CNke76P",
        "outputId": "10d7d3fa-c63c-4692-d35b-4fc5333c050b"
      },
      "execution_count": 26,
      "outputs": [
        {
          "output_type": "execute_result",
          "data": {
            "text/plain": [
              "Counter({0: 9, 1: 10})"
            ]
          },
          "metadata": {},
          "execution_count": 26
        }
      ]
    }
  ]
}
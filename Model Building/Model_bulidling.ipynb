{
  "nbformat": 4,
  "nbformat_minor": 0,
  "metadata": {
    "colab": {
      "provenance": []
    },
    "kernelspec": {
      "name": "python3",
      "display_name": "Python 3"
    },
    "language_info": {
      "name": "python"
    }
  },
  "cells": [
    {
      "cell_type": "markdown",
      "source": [
        "1.Importing the model buliding Libraries"
      ],
      "metadata": {
        "id": "eAIIusvnySkk"
      }
    },
    {
      "cell_type": "code",
      "execution_count": 1,
      "metadata": {
        "id": "Hc2VdhhLtI1j"
      },
      "outputs": [],
      "source": [
        "import keras\n",
        "from keras.preprocessing.image import ImageDataGenerator"
      ]
    },
    {
      "cell_type": "code",
      "source": [
        "train_datagen = ImageDataGenerator(rescale=1./255,shear_range=0.2,rotation_range=180,zoom_range=0.2,horizontal_flip=True)\n",
        "\n",
        "test_datagen = ImageDataGenerator(rescale=1./255)"
      ],
      "metadata": {
        "id": "0SFGsgHEtQ7r"
      },
      "execution_count": 2,
      "outputs": []
    },
    {
      "cell_type": "code",
      "source": [
        "from google.colab import drive\n",
        "drive.mount('/content/drive')"
      ],
      "metadata": {
        "colab": {
          "base_uri": "https://localhost:8080/"
        },
        "id": "x0xJfycgtvNv",
        "outputId": "beef6ec1-a620-4305-c938-6cf65e764e4e"
      },
      "execution_count": 7,
      "outputs": [
        {
          "output_type": "stream",
          "name": "stdout",
          "text": [
            "Mounted at /content/drive\n"
          ]
        }
      ]
    },
    {
      "cell_type": "code",
      "source": [
        "x=train_datagen.flow_from_directory('/content/drive/MyDrive/ibm/fire/dataset/train_set',target_size=(128,128),batch_size=32,class_mode='binary')"
      ],
      "metadata": {
        "colab": {
          "base_uri": "https://localhost:8080/"
        },
        "id": "yDGosnejtVbC",
        "outputId": "914bc58d-66db-4d8c-e625-0e8d6258b7f7"
      },
      "execution_count": 17,
      "outputs": [
        {
          "output_type": "stream",
          "name": "stdout",
          "text": [
            "Found 16 images belonging to 2 classes.\n"
          ]
        }
      ]
    },
    {
      "cell_type": "code",
      "source": [
        "y=test_datagen.flow_from_directory('/content/drive/MyDrive/ibm/fire/dataset/test_set',target_size=(128,128),batch_size=32,class_mode='binary')"
      ],
      "metadata": {
        "colab": {
          "base_uri": "https://localhost:8080/"
        },
        "id": "YD6zIicyt-_n",
        "outputId": "36ea2db9-2210-4c26-bd90-541ba2ded017"
      },
      "execution_count": 18,
      "outputs": [
        {
          "output_type": "stream",
          "name": "stdout",
          "text": [
            "Found 19 images belonging to 2 classes.\n"
          ]
        }
      ]
    },
    {
      "cell_type": "code",
      "source": [
        "#import model building libraries\n",
        "\n",
        "#To define Linear initialisation import Sequential\n",
        "from keras.models import Sequential\n",
        "#To add layers import Dense\n",
        "from keras.layers import Dense\n",
        "#To create Convolution kernel import Convolution2D\n",
        "from keras.layers import Convolution2D\n",
        "#import Maxpooling layer\n",
        "from keras.layers import MaxPooling2D\n",
        "#import flatten layer\n",
        "from keras.layers import Flatten\n",
        "\n",
        "import warnings\n",
        "warnings.filterwarnings('ignore')"
      ],
      "metadata": {
        "id": "MAZ96IdfuIZr"
      },
      "execution_count": 11,
      "outputs": []
    },
    {
      "cell_type": "markdown",
      "source": [
        "2.Initializing the model"
      ],
      "metadata": {
        "id": "XaIUKdNnykeW"
      }
    },
    {
      "cell_type": "code",
      "source": [
        "model=Sequential()\n"
      ],
      "metadata": {
        "id": "pSkOEK-8uKMp"
      },
      "execution_count": 12,
      "outputs": []
    },
    {
      "cell_type": "markdown",
      "source": [
        "3.Adding Cnn Layers"
      ],
      "metadata": {
        "id": "lU6N7n-FyslM"
      }
    },
    {
      "cell_type": "code",
      "source": [
        "model.add(Convolution2D(32,(3,3),input_shape=(128,128,3),activation='relu'))\n",
        "model.add(MaxPooling2D(pool_size=(2,2))) \n",
        "model.add(Flatten())"
      ],
      "metadata": {
        "id": "V8GdnCqEuN65"
      },
      "execution_count": 13,
      "outputs": []
    },
    {
      "cell_type": "markdown",
      "source": [
        "4.Adding Dense layers"
      ],
      "metadata": {
        "id": "cxWB5dJukGFc"
      }
    },
    {
      "cell_type": "code",
      "source": [
        "model.add(Dense(150,activation='relu'))\n",
        "model.add(Dense(1,activation='sigmoid'))\n",
        "model.add(Dense(5,activation=\"softmax\"))"
      ],
      "metadata": {
        "id": "-c9q1-MZuR11"
      },
      "execution_count": 14,
      "outputs": []
    },
    {
      "cell_type": "markdown",
      "source": [
        "5.Configuring the learning process"
      ],
      "metadata": {
        "id": "FvpXcQkvkONw"
      }
    },
    {
      "cell_type": "code",
      "source": [
        "model.compile(loss='binary_crossentropy',optimizer=\"adam\",metrics=[\"accuracy\"])"
      ],
      "metadata": {
        "id": "Gi9X39umuXOa"
      },
      "execution_count": 15,
      "outputs": []
    },
    {
      "cell_type": "markdown",
      "source": [
        "6.Training the Model"
      ],
      "metadata": {
        "id": "hQ66I5eKkT0F"
      }
    },
    {
      "cell_type": "code",
      "source": [
        "model.fit(x, epochs= 1,validation_data=x, steps_per_epoch=len(x),validation_steps=len(x) )"
      ],
      "metadata": {
        "colab": {
          "base_uri": "https://localhost:8080/"
        },
        "id": "slEHLq1LuapV",
        "outputId": "db33bb2b-ea85-45cd-aceb-b6523c9551d3"
      },
      "execution_count": 20,
      "outputs": [
        {
          "output_type": "stream",
          "name": "stdout",
          "text": [
            "1/1 [==============================] - 3s 3s/step - loss: 0.2962 - accuracy: 0.7500 - val_loss: 13.0146 - val_accuracy: 0.5000\n"
          ]
        },
        {
          "output_type": "execute_result",
          "data": {
            "text/plain": [
              "<keras.callbacks.History at 0x7f20930f8810>"
            ]
          },
          "metadata": {},
          "execution_count": 20
        }
      ]
    },
    {
      "cell_type": "code",
      "source": [
        "model.fit(y, epochs= 1,validation_data=y, steps_per_epoch=len(y),validation_steps=len(y))"
      ],
      "metadata": {
        "colab": {
          "base_uri": "https://localhost:8080/"
        },
        "id": "Tupih63qvDEp",
        "outputId": "67e577d5-f359-49c6-af9a-654a2da558e9"
      },
      "execution_count": 22,
      "outputs": [
        {
          "output_type": "stream",
          "name": "stdout",
          "text": [
            "1/1 [==============================] - 2s 2s/step - loss: 13.9476 - accuracy: 0.4737 - val_loss: 2.1917 - val_accuracy: 0.6316\n"
          ]
        },
        {
          "output_type": "execute_result",
          "data": {
            "text/plain": [
              "<keras.callbacks.History at 0x7f2093ea9c50>"
            ]
          },
          "metadata": {},
          "execution_count": 22
        }
      ]
    },
    {
      "cell_type": "markdown",
      "source": [
        "7.Save the model"
      ],
      "metadata": {
        "id": "hPpJh97nkakv"
      }
    },
    {
      "cell_type": "code",
      "source": [
        "model.save(\"forest1.h5\")"
      ],
      "metadata": {
        "id": "1Q0w-MTqvRzg"
      },
      "execution_count": 23,
      "outputs": []
    },
    {
      "cell_type": "markdown",
      "source": [
        "8.Predict Model"
      ],
      "metadata": {
        "id": "z5PRyoZmwqPL"
      }
    },
    {
      "cell_type": "code",
      "source": [
        "from keras.models import load_model\n",
        "from tensorflow.keras.preprocessing import image\n",
        "import numpy as np\n",
        "import cv2"
      ],
      "metadata": {
        "id": "MNL1bEPPvTfV"
      },
      "execution_count": 24,
      "outputs": []
    },
    {
      "cell_type": "code",
      "source": [
        "model = load_model(\"forest1.h5\")"
      ],
      "metadata": {
        "id": "l-BDwUKCvZJJ"
      },
      "execution_count": 25,
      "outputs": []
    },
    {
      "cell_type": "code",
      "source": [
        "img=image.load_img('/content/drive/MyDrive/ibm/fire/dataset/test_set/with fire/with fire (3).jpeg')\n",
        "z=image.img_to_array(img)\n",
        "res = cv2.resize(x, dsize=(1, 1), interpolation=cv2.INTER_CUBIC)\n",
        "z = np.expand_dims(z,axis= 0)"
      ],
      "metadata": {
        "id": "Ib2kfCIpvdWn"
      },
      "execution_count": 57,
      "outputs": []
    },
    {
      "cell_type": "code",
      "source": [
        "pred=model.predict(z)"
      ],
      "metadata": {
        "colab": {
          "base_uri": "https://localhost:8080/"
        },
        "id": "W_3jCT5ivqWH",
        "outputId": "325e974f-f13c-40c9-fc3a-94b70d43fa87"
      },
      "execution_count": 59,
      "outputs": [
        {
          "output_type": "stream",
          "name": "stdout",
          "text": [
            "1/1 [==============================] - 1s 604ms/step\n"
          ]
        }
      ]
    },
    {
      "cell_type": "code",
      "source": [
        "pred"
      ],
      "metadata": {
        "colab": {
          "base_uri": "https://localhost:8080/"
        },
        "id": "3a9Nfr7qwCZq",
        "outputId": "d4e15a70-f63f-4e7b-eeaa-212ddb144b0e"
      },
      "execution_count": 33,
      "outputs": [
        {
          "output_type": "execute_result",
          "data": {
            "text/plain": [
              "array([[9.9858880e-01],\n",
              "       [1.4864905e-01],\n",
              "       [1.9004133e-04],\n",
              "       [6.7818291e-05],\n",
              "       [1.0000000e+00],\n",
              "       [3.9014143e-12],\n",
              "       [7.8782758e-09],\n",
              "       [9.9998534e-01],\n",
              "       [1.2849346e-03],\n",
              "       [8.8256069e-09],\n",
              "       [1.2366036e-06],\n",
              "       [3.6669749e-01],\n",
              "       [2.1534018e-07],\n",
              "       [3.9988262e-09],\n",
              "       [4.0211225e-06],\n",
              "       [9.0891890e-02],\n",
              "       [2.5106333e-17],\n",
              "       [4.9190154e-09],\n",
              "       [3.8791850e-01]], dtype=float32)"
            ]
          },
          "metadata": {},
          "execution_count": 33
        }
      ]
    }
  ]
}
{
  "nbformat": 4,
  "nbformat_minor": 0,
  "metadata": {
    "colab": {
      "provenance": []
    },
    "kernelspec": {
      "name": "python3",
      "display_name": "Python 3"
    },
    "language_info": {
      "name": "python"
    }
  },
  "cells": [
    {
      "cell_type": "markdown",
      "source": [
        "Importing Libraries and ImageDataGenerator"
      ],
      "metadata": {
        "id": "YHSiQ7QlBmaN"
      }
    },
    {
      "cell_type": "code",
      "execution_count": 6,
      "metadata": {
        "id": "TzGN68JUBRI4"
      },
      "outputs": [],
      "source": [
        "import keras"
      ]
    },
    {
      "cell_type": "code",
      "source": [
        "from matplotlib import pyplot as plt\n",
        "from keras.preprocessing.image import ImageDataGenerator"
      ],
      "metadata": {
        "id": "W_g1eC4fBdOa"
      },
      "execution_count": 2,
      "outputs": []
    },
    {
      "cell_type": "code",
      "source": [
        "from google.colab import drive\n",
        "drive.mount('/content/drive')"
      ],
      "metadata": {
        "colab": {
          "base_uri": "https://localhost:8080/"
        },
        "id": "qtIGbV6vB_qY",
        "outputId": "afb5f9f8-d0bd-4ab9-9f2e-4e3ec7eed452"
      },
      "execution_count": 4,
      "outputs": [
        {
          "output_type": "stream",
          "name": "stdout",
          "text": [
            "Mounted at /content/drive\n"
          ]
        }
      ]
    },
    {
      "cell_type": "markdown",
      "source": [
        "Defining Parameters"
      ],
      "metadata": {
        "id": "7dmGrDhVByFR"
      }
    },
    {
      "cell_type": "code",
      "source": [
        "train=ImageDataGenerator(rescale=1./255,shear_range=0.2,rotation_range=180,zoom_range=0.2,horizontal_flip=True)\n",
        "test=ImageDataGenerator(rescale=1./255)"
      ],
      "metadata": {
        "id": "-8giVhqkBus7"
      },
      "execution_count": 5,
      "outputs": []
    },
    {
      "cell_type": "markdown",
      "source": [
        "Applying ImageDatagenerator"
      ],
      "metadata": {
        "id": "jYQBON0QBvmA"
      }
    },
    {
      "cell_type": "code",
      "source": [
        "x = train.flow_from_directory(\"/content/drive/MyDrive/ibm/fire/dataset/train_set\",target_size=(150,150),batch_size = 32,class_mode = 'binary')\n",
        "y = test.flow_from_directory(\"/content/drive/MyDrive/ibm/fire/dataset/test_set\",target_size=(150,150),batch_size =32,class_mode = 'binary')"
      ],
      "metadata": {
        "colab": {
          "base_uri": "https://localhost:8080/"
        },
        "id": "t-d237OKB86S",
        "outputId": "d432f778-4798-4bf4-d83c-8c2334c68e38"
      },
      "execution_count": 7,
      "outputs": [
        {
          "output_type": "stream",
          "name": "stdout",
          "text": [
            "Found 100 images belonging to 2 classes.\n",
            "Found 42 images belonging to 2 classes.\n"
          ]
        }
      ]
    }
  ]
}
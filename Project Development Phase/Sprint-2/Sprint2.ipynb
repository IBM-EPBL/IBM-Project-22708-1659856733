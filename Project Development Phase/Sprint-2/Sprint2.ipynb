{
  "nbformat": 4,
  "nbformat_minor": 0,
  "metadata": {
    "colab": {
      "provenance": []
    },
    "kernelspec": {
      "name": "python3",
      "display_name": "Python 3"
    },
    "language_info": {
      "name": "python"
    }
  },
  "cells": [
    {
      "cell_type": "markdown",
      "source": [
        "1.Importing the model buliding Libraries"
      ],
      "metadata": {
        "id": "oWoPA9GFgqtp"
      }
    },
    {
      "cell_type": "code",
      "execution_count": 1,
      "metadata": {
        "id": "6Ab8xhUOdK4v"
      },
      "outputs": [],
      "source": [
        "import keras\n",
        "from keras.preprocessing.image import ImageDataGenerator"
      ]
    },
    {
      "cell_type": "code",
      "source": [
        "train_datagen=ImageDataGenerator(rescale=1./255,shear_range=0.2,rotation_range=180,zoom_range=0.2,horizontal_flip=True)\n",
        "\n",
        "test_datagen=ImageDataGenerator(rescale=1./255)"
      ],
      "metadata": {
        "id": "gyptnXypdVfp"
      },
      "execution_count": 2,
      "outputs": []
    },
    {
      "cell_type": "code",
      "source": [
        "from google.colab import drive\n",
        "drive.mount('/content/drive')"
      ],
      "metadata": {
        "colab": {
          "base_uri": "https://localhost:8080/"
        },
        "id": "aBhWr76adtxF",
        "outputId": "bbd1b55f-717b-42c5-f5e1-ec8037da49c6"
      },
      "execution_count": 4,
      "outputs": [
        {
          "output_type": "stream",
          "name": "stdout",
          "text": [
            "Mounted at /content/drive\n"
          ]
        }
      ]
    },
    {
      "cell_type": "code",
      "source": [
        "x=train_datagen.flow_from_directory('/content/drive/MyDrive/ibm/fire/dataset/train_set',target_size=(128,128),batch_size=32,class_mode='binary')"
      ],
      "metadata": {
        "colab": {
          "base_uri": "https://localhost:8080/"
        },
        "id": "Qz1FVIGFdlgF",
        "outputId": "230be7c2-5d21-4617-819d-8a1db1fcdf83"
      },
      "execution_count": 6,
      "outputs": [
        {
          "output_type": "stream",
          "name": "stdout",
          "text": [
            "Found 100 images belonging to 2 classes.\n"
          ]
        }
      ]
    },
    {
      "cell_type": "code",
      "source": [
        "y=test_datagen.flow_from_directory('/content/drive/MyDrive/ibm/fire/dataset/test_set',target_size=(128,128),batch_size=32,class_mode='binary')"
      ],
      "metadata": {
        "colab": {
          "base_uri": "https://localhost:8080/"
        },
        "id": "Fv1CGd4MeKt8",
        "outputId": "23023160-bbc2-47cf-88da-8fd304afa12a"
      },
      "execution_count": 7,
      "outputs": [
        {
          "output_type": "stream",
          "name": "stdout",
          "text": [
            "Found 42 images belonging to 2 classes.\n"
          ]
        }
      ]
    },
    {
      "cell_type": "code",
      "source": [
        "#import model building libraries\n",
        "\n",
        "#To define Linear initialisation import Sequential\n",
        "from keras.models import Sequential\n",
        "#To add layers import Dense\n",
        "from keras.layers import Dense\n",
        "#To create Convolution kernel import Convolution2D\n",
        "from keras.layers import Convolution2D\n",
        "#import Maxpooling layer\n",
        "from keras.layers import MaxPooling2D\n",
        "#import flatten layer\n",
        "from keras.layers import Flatten\n",
        "import warnings\n",
        "warnings.filterwarnings('ignore')"
      ],
      "metadata": {
        "id": "xUdyWSWTeaT8"
      },
      "execution_count": 8,
      "outputs": []
    },
    {
      "cell_type": "markdown",
      "source": [
        "2.Initializing the model"
      ],
      "metadata": {
        "id": "MCmfAB7hg_92"
      }
    },
    {
      "cell_type": "code",
      "source": [
        "model=Sequential()"
      ],
      "metadata": {
        "id": "7P9_rYrDefQP"
      },
      "execution_count": 9,
      "outputs": []
    },
    {
      "cell_type": "markdown",
      "source": [
        "3.Adding Cnn Layers"
      ],
      "metadata": {
        "id": "eQbTNbL3hD0i"
      }
    },
    {
      "cell_type": "code",
      "source": [
        "model.add(Convolution2D(32,(3,3),input_shape=(128,128,3),activation='relu'))\n",
        "model.add(MaxPooling2D(pool_size=(2,2))) \n",
        "model.add(Flatten())\n"
      ],
      "metadata": {
        "id": "vf-T2f67eiRm"
      },
      "execution_count": 10,
      "outputs": []
    },
    {
      "cell_type": "markdown",
      "source": [
        "4.Adding Dense layers"
      ],
      "metadata": {
        "id": "UeY97BirhbH6"
      }
    },
    {
      "cell_type": "code",
      "source": [
        "model.add(Dense(150,activation='relu'))\n",
        "model.add(Dense(1,activation='sigmoid'))\n",
        "model.add(Dense(5,activation=\"softmax\"))"
      ],
      "metadata": {
        "id": "C-l3U9NLel92"
      },
      "execution_count": 11,
      "outputs": []
    },
    {
      "cell_type": "markdown",
      "source": [
        "5.Configuring the learning process"
      ],
      "metadata": {
        "id": "YjUg6HSuhgRE"
      }
    },
    {
      "cell_type": "code",
      "source": [
        "model.compile(loss='binary_crossentropy',optimizer=\"adam\",metrics=[\"accuracy\"])"
      ],
      "metadata": {
        "id": "kzDr8jO8epvU"
      },
      "execution_count": 12,
      "outputs": []
    },
    {
      "cell_type": "markdown",
      "source": [
        "6.Training the Model"
      ],
      "metadata": {
        "id": "rWP3QEuwhr6J"
      }
    },
    {
      "cell_type": "code",
      "source": [
        "model.fit_generator(x,steps_per_epoch=4,epochs=10,validation_data=y,validation_steps=4)"
      ],
      "metadata": {
        "colab": {
          "base_uri": "https://localhost:8080/"
        },
        "id": "lMB2Tvi1euhT",
        "outputId": "1ccc7cbf-b277-4923-d171-55678e14fc8f"
      },
      "execution_count": 16,
      "outputs": [
        {
          "output_type": "stream",
          "name": "stdout",
          "text": [
            "Epoch 1/10\n",
            "4/4 [==============================] - ETA: 0s - loss: 0.7278 - accuracy: 0.7300"
          ]
        },
        {
          "output_type": "stream",
          "name": "stderr",
          "text": [
            "WARNING:tensorflow:Your input ran out of data; interrupting training. Make sure that your dataset or generator can generate at least `steps_per_epoch * epochs` batches (in this case, 4 batches). You may need to use the repeat() function when building your dataset.\n"
          ]
        },
        {
          "output_type": "stream",
          "name": "stdout",
          "text": [
            "\b\b\b\b\b\b\b\b\b\b\b\b\b\b\b\b\b\b\b\b\b\b\b\b\b\b\b\b\b\b\b\b\b\b\b\b\b\b\b\b\b\b\b\b\b\b\b\b\b\b\b\b\b\b\b\b\b\b\b\b\b\b\b\b\b\b\b\b\b\b\b\b\b\b\b\b\b\b\b\b\r4/4 [==============================] - 3s 811ms/step - loss: 0.7278 - accuracy: 0.7300 - val_loss: 0.3765 - val_accuracy: 0.9048\n",
            "Epoch 2/10\n",
            "4/4 [==============================] - 2s 380ms/step - loss: 0.3295 - accuracy: 0.8300\n",
            "Epoch 3/10\n",
            "4/4 [==============================] - 2s 392ms/step - loss: 0.2884 - accuracy: 0.8800\n",
            "Epoch 4/10\n",
            "4/4 [==============================] - 2s 478ms/step - loss: 0.2464 - accuracy: 0.9100\n",
            "Epoch 5/10\n",
            "4/4 [==============================] - 2s 362ms/step - loss: 0.2411 - accuracy: 0.9400\n",
            "Epoch 6/10\n",
            "4/4 [==============================] - 2s 370ms/step - loss: 0.1998 - accuracy: 0.9300\n",
            "Epoch 7/10\n",
            "4/4 [==============================] - 2s 528ms/step - loss: 0.1867 - accuracy: 0.9300\n",
            "Epoch 8/10\n",
            "4/4 [==============================] - 2s 585ms/step - loss: 0.2813 - accuracy: 0.8800\n",
            "Epoch 9/10\n",
            "4/4 [==============================] - 2s 369ms/step - loss: 0.1991 - accuracy: 0.9400\n",
            "Epoch 10/10\n",
            "4/4 [==============================] - 2s 405ms/step - loss: 0.2021 - accuracy: 0.9100\n"
          ]
        },
        {
          "output_type": "execute_result",
          "data": {
            "text/plain": [
              "<keras.callbacks.History at 0x7f42f4f8eed0>"
            ]
          },
          "metadata": {},
          "execution_count": 16
        }
      ]
    },
    {
      "cell_type": "markdown",
      "source": [
        "7.Save the model\n",
        "\n"
      ],
      "metadata": {
        "id": "1kIW4gieh-Dm"
      }
    },
    {
      "cell_type": "code",
      "source": [
        "model.save(\"forest1.h5\")"
      ],
      "metadata": {
        "id": "9VtT-s02ftpR"
      },
      "execution_count": 17,
      "outputs": []
    },
    {
      "cell_type": "markdown",
      "source": [
        "8.Predicate"
      ],
      "metadata": {
        "id": "M264PS0YiBkX"
      }
    },
    {
      "cell_type": "code",
      "source": [
        "#import load_model from keras.model\n",
        "from keras.models import load_model\n",
        "#import image class from keras\n",
        "from tensorflow.keras.preprocessing import image\n",
        "#import numpy\n",
        "import numpy as np\n",
        "#import cv2\n",
        "import cv2"
      ],
      "metadata": {
        "id": "VXIrsJUofvTI"
      },
      "execution_count": 18,
      "outputs": []
    },
    {
      "cell_type": "code",
      "source": [
        "model = load_model(\"forest1.h5\")"
      ],
      "metadata": {
        "id": "hDISj1FOfz5B"
      },
      "execution_count": 19,
      "outputs": []
    },
    {
      "cell_type": "code",
      "source": [
        "img=image.load_img('/content/drive/MyDrive/ibm/fire/dataset/test_set/with fire/with fire (3).png')\n",
        "z=image.img_to_array(img)\n",
        "res = cv2.resize(z, dsize=(128, 128), interpolation=cv2.INTER_CUBIC)\n",
        "#expand the image shape\n",
        "z=np.expand_dims(res,axis=0)"
      ],
      "metadata": {
        "id": "5CnJGShCf4eM"
      },
      "execution_count": 20,
      "outputs": []
    },
    {
      "cell_type": "code",
      "source": [
        "pred=model.predict(z)"
      ],
      "metadata": {
        "colab": {
          "base_uri": "https://localhost:8080/"
        },
        "id": "6aYLHY5MgQ-w",
        "outputId": "ddbf6ed7-ea60-4f18-80bc-8f792f553787"
      },
      "execution_count": 21,
      "outputs": [
        {
          "output_type": "stream",
          "name": "stdout",
          "text": [
            "1/1 [==============================] - 0s 76ms/step\n"
          ]
        }
      ]
    },
    {
      "cell_type": "code",
      "source": [
        "pred"
      ],
      "metadata": {
        "colab": {
          "base_uri": "https://localhost:8080/"
        },
        "id": "dqfZU42ygUtQ",
        "outputId": "43dd4dc2-23ae-48a7-cdbd-d6575b69f22c"
      },
      "execution_count": 22,
      "outputs": [
        {
          "output_type": "execute_result",
          "data": {
            "text/plain": [
              "array([[1.]], dtype=float32)"
            ]
          },
          "metadata": {},
          "execution_count": 22
        }
      ]
    }
  ]
}